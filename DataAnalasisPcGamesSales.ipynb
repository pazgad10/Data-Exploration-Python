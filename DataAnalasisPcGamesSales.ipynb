{
 "cells": [
  {
   "cell_type": "code",
   "execution_count": 79,
   "metadata": {},
   "outputs": [],
   "source": [
    "# Import libraries\n",
    "import pandas as pd\n",
    "import numpy as np\n",
    "import seaborn as sns\n",
    "\n",
    "import matplotlib.pyplot as plt\n",
    "import matplotlib.mlab as mlab\n",
    "import matplotlib\n",
    "plt.style.use('ggplot')\n",
    "from matplotlib.pyplot import figure\n",
    "\n",
    "%matplotlib inline\n",
    "matplotlib.rcParams['figure.figsize'] = (12,8)\n",
    "\n",
    "pd.options.mode.chained_assignment = None\n",
    "\n",
    "# Importing the data\n",
    "df = pd.read_csv(r'C:\\Users\\paz\\Downloads\\Games.csv')"
   ]
  },
  {
   "cell_type": "code",
   "execution_count": 80,
   "metadata": {},
   "outputs": [
    {
     "data": {
      "text/html": [
       "<div>\n",
       "<style scoped>\n",
       "    .dataframe tbody tr th:only-of-type {\n",
       "        vertical-align: middle;\n",
       "    }\n",
       "\n",
       "    .dataframe tbody tr th {\n",
       "        vertical-align: top;\n",
       "    }\n",
       "\n",
       "    .dataframe thead th {\n",
       "        text-align: right;\n",
       "    }\n",
       "</style>\n",
       "<table border=\"1\" class=\"dataframe\">\n",
       "  <thead>\n",
       "    <tr style=\"text-align: right;\">\n",
       "      <th></th>\n",
       "      <th>Name</th>\n",
       "      <th>Sales</th>\n",
       "      <th>Series</th>\n",
       "      <th>Release</th>\n",
       "      <th>Genre</th>\n",
       "      <th>Developer</th>\n",
       "      <th>Publisher</th>\n",
       "    </tr>\n",
       "  </thead>\n",
       "  <tbody>\n",
       "    <tr>\n",
       "      <th>0</th>\n",
       "      <td>PlayerUnknown's Battlegrounds</td>\n",
       "      <td>42.0</td>\n",
       "      <td>NaN</td>\n",
       "      <td>Dec-17</td>\n",
       "      <td>Battle royale</td>\n",
       "      <td>PUBG Studios</td>\n",
       "      <td>Krafton</td>\n",
       "    </tr>\n",
       "    <tr>\n",
       "      <th>1</th>\n",
       "      <td>Minecraft</td>\n",
       "      <td>33.0</td>\n",
       "      <td>Minecraft</td>\n",
       "      <td>Nov-11</td>\n",
       "      <td>Sandbox, survival</td>\n",
       "      <td>Mojang Studios</td>\n",
       "      <td>Mojang Studios</td>\n",
       "    </tr>\n",
       "    <tr>\n",
       "      <th>2</th>\n",
       "      <td>Diablo III</td>\n",
       "      <td>20.0</td>\n",
       "      <td>Diablo</td>\n",
       "      <td>May-12</td>\n",
       "      <td>Action role-playing</td>\n",
       "      <td>Blizzard Entertainment</td>\n",
       "      <td>Blizzard Entertainment</td>\n",
       "    </tr>\n",
       "    <tr>\n",
       "      <th>3</th>\n",
       "      <td>Garry's Mod</td>\n",
       "      <td>20.0</td>\n",
       "      <td>NaN</td>\n",
       "      <td>Nov-06</td>\n",
       "      <td>Sandbox</td>\n",
       "      <td>Facepunch Studios</td>\n",
       "      <td>Valve</td>\n",
       "    </tr>\n",
       "    <tr>\n",
       "      <th>4</th>\n",
       "      <td>Terraria</td>\n",
       "      <td>17.2</td>\n",
       "      <td>NaN</td>\n",
       "      <td>May-11</td>\n",
       "      <td>Action-adventure</td>\n",
       "      <td>Re-Logic</td>\n",
       "      <td>Re-Logic</td>\n",
       "    </tr>\n",
       "  </tbody>\n",
       "</table>\n",
       "</div>"
      ],
      "text/plain": [
       "                            Name  Sales     Series Release  \\\n",
       "0  PlayerUnknown's Battlegrounds   42.0        NaN  Dec-17   \n",
       "1                      Minecraft   33.0  Minecraft  Nov-11   \n",
       "2                     Diablo III   20.0     Diablo  May-12   \n",
       "3                    Garry's Mod   20.0        NaN  Nov-06   \n",
       "4                       Terraria   17.2        NaN  May-11   \n",
       "\n",
       "                 Genre               Developer               Publisher  \n",
       "0        Battle royale            PUBG Studios                 Krafton  \n",
       "1    Sandbox, survival          Mojang Studios          Mojang Studios  \n",
       "2  Action role-playing  Blizzard Entertainment  Blizzard Entertainment  \n",
       "3              Sandbox       Facepunch Studios                   Valve  \n",
       "4     Action-adventure                Re-Logic                Re-Logic  "
      ]
     },
     "execution_count": 80,
     "metadata": {},
     "output_type": "execute_result"
    }
   ],
   "source": [
    "df.head()"
   ]
  },
  {
   "cell_type": "code",
   "execution_count": 81,
   "metadata": {},
   "outputs": [],
   "source": [
    "pd.set_option('display.max_rows', None)"
   ]
  },
  {
   "cell_type": "code",
   "execution_count": 83,
   "metadata": {},
   "outputs": [
    {
     "name": "stdout",
     "output_type": "stream",
     "text": [
      "Name - 0.0%\n",
      "Sales - 0.0%\n",
      "Series - 0.2057142857142857%\n",
      "Release - 0.0%\n",
      "Genre - 0.0%\n",
      "Developer - 0.0%\n",
      "Publisher - 0.0%\n"
     ]
    }
   ],
   "source": [
    "# Searching for missing data\n",
    "for col in df.columns:\n",
    "    missing_data = np.mean(df[col].isnull())\n",
    "    print('{} - {}%'.format(col,missing_data))"
   ]
  },
  {
   "cell_type": "code",
   "execution_count": 84,
   "metadata": {},
   "outputs": [
    {
     "name": "stdout",
     "output_type": "stream",
     "text": [
      "float64\n"
     ]
    }
   ],
   "source": [
    "# Checking the data type of Sales column\n",
    "print(df.Sales.dtypes)"
   ]
  },
  {
   "cell_type": "code",
   "execution_count": 85,
   "metadata": {},
   "outputs": [],
   "source": [
    "# Changing the data type of the sales column for making the code more arranged\n",
    "df['Sales'] = df['Sales'].fillna(0)\n",
    "df['Sales'] = df['Sales'].astype('int64')\n"
   ]
  },
  {
   "cell_type": "code",
   "execution_count": 86,
   "metadata": {},
   "outputs": [
    {
     "name": "stdout",
     "output_type": "stream",
     "text": [
      "object\n"
     ]
    }
   ],
   "source": [
    "# Checking the data type of Release column\n",
    "print(df.Release.dtypes)"
   ]
  },
  {
   "cell_type": "code",
   "execution_count": 87,
   "metadata": {},
   "outputs": [],
   "source": [
    "# Spliting the Release column, Creating a month and year column\n",
    "d = pd.Series(df['Release'])\n",
    "df['Month'] = d.str.split(\"-\", expand = True)[0]\n",
    "df['Year'] = d.str.split(\"-\", expand = True)[1]"
   ]
  },
  {
   "cell_type": "code",
   "execution_count": 88,
   "metadata": {},
   "outputs": [],
   "source": [
    "# Creating function taht will change the month to an int corresponding to the month.\n",
    "def months(Month):\n",
    "    if  Month == 'Dec':\n",
    "        Month = 12\n",
    "    if Month == 'Nov':\n",
    "        Month = 11\n",
    "    if Month == 'Oct':\n",
    "        Month = 10\n",
    "    if Month == 'Sep':\n",
    "        Month = 9\n",
    "    if Month == 'Aug':\n",
    "        Month = 8\n",
    "    if Month == 'Jul':\n",
    "        Month = 7\n",
    "    if Month == 'Jun':\n",
    "        Month = 6\n",
    "    if Month == 'May':\n",
    "        Month = 5\n",
    "    if Month == 'April':\n",
    "        Month = 4\n",
    "    if Month == 'Mar':\n",
    "        Month = 3\n",
    "    if Month == 'Feb':\n",
    "        Month = 2\n",
    "    if Month == 'Jan':\n",
    "        Month = 1\n",
    "    return Month"
   ]
  },
  {
   "cell_type": "code",
   "execution_count": 89,
   "metadata": {},
   "outputs": [],
   "source": [
    "# Applying the function to the column Month\n",
    "df['Month'] = df['Month'].apply(months)\n",
    "\n"
   ]
  },
  {
   "cell_type": "code",
   "execution_count": 90,
   "metadata": {},
   "outputs": [],
   "source": [
    "# Creating a random number that i'll need in the next cell.\n",
    "p = np.random.randint(15)\n",
    "c = str(p)"
   ]
  },
  {
   "cell_type": "code",
   "execution_count": 91,
   "metadata": {},
   "outputs": [],
   "source": [
    "# Bringing together the month and year column together into a new column. The random int will serve as the day.\n",
    "df['Release_Date'] = df.Month.astype(str) + '/' + c + '/' + df.Year.astype(str)"
   ]
  },
  {
   "cell_type": "code",
   "execution_count": 92,
   "metadata": {},
   "outputs": [],
   "source": [
    "# Changing the column to datetime\n",
    "df['Release_Date'] = pd.to_datetime(df['Release_Date'])"
   ]
  },
  {
   "cell_type": "code",
   "execution_count": 93,
   "metadata": {},
   "outputs": [
    {
     "name": "stdout",
     "output_type": "stream",
     "text": [
      "<class 'pandas.core.frame.DataFrame'>\n",
      "RangeIndex: 175 entries, 0 to 174\n",
      "Data columns (total 7 columns):\n",
      " #   Column        Non-Null Count  Dtype         \n",
      "---  ------        --------------  -----         \n",
      " 0   Name          175 non-null    object        \n",
      " 1   Release_Date  175 non-null    datetime64[ns]\n",
      " 2   Sales         175 non-null    int64         \n",
      " 3   Series        139 non-null    object        \n",
      " 4   Genre         175 non-null    object        \n",
      " 5   Developer     175 non-null    object        \n",
      " 6   Publisher     175 non-null    object        \n",
      "dtypes: datetime64[ns](1), int64(1), object(5)\n",
      "memory usage: 9.7+ KB\n"
     ]
    }
   ],
   "source": [
    "# Dropping columns I don't need\n",
    "# Rearranging the columns\n",
    "# Checking the dataframe\n",
    "df.drop(columns = ['Release','Month','Year'], axis = 1, inplace = True)\n",
    "df = df.reindex(columns = ['Name','Release_Date','Sales','Series','Genre','Developer','Publisher'])\n",
    "df.info()"
   ]
  },
  {
   "cell_type": "code",
   "execution_count": 94,
   "metadata": {},
   "outputs": [],
   "source": [
    "pd.set_option('display.max_rows', 25)"
   ]
  },
  {
   "cell_type": "code",
   "execution_count": 95,
   "metadata": {},
   "outputs": [
    {
     "data": {
      "text/html": [
       "<div>\n",
       "<style scoped>\n",
       "    .dataframe tbody tr th:only-of-type {\n",
       "        vertical-align: middle;\n",
       "    }\n",
       "\n",
       "    .dataframe tbody tr th {\n",
       "        vertical-align: top;\n",
       "    }\n",
       "\n",
       "    .dataframe thead th {\n",
       "        text-align: right;\n",
       "    }\n",
       "</style>\n",
       "<table border=\"1\" class=\"dataframe\">\n",
       "  <thead>\n",
       "    <tr style=\"text-align: right;\">\n",
       "      <th></th>\n",
       "      <th>Name</th>\n",
       "      <th>Release_Date</th>\n",
       "      <th>Sales</th>\n",
       "      <th>Series</th>\n",
       "      <th>Genre</th>\n",
       "      <th>Developer</th>\n",
       "      <th>Publisher</th>\n",
       "    </tr>\n",
       "  </thead>\n",
       "  <tbody>\n",
       "    <tr>\n",
       "      <th>0</th>\n",
       "      <td>PlayerUnknown's Battlegrounds</td>\n",
       "      <td>2017-12-12</td>\n",
       "      <td>42</td>\n",
       "      <td>NaN</td>\n",
       "      <td>Battle royale</td>\n",
       "      <td>PUBG Studios</td>\n",
       "      <td>Krafton</td>\n",
       "    </tr>\n",
       "    <tr>\n",
       "      <th>1</th>\n",
       "      <td>Minecraft</td>\n",
       "      <td>2011-11-12</td>\n",
       "      <td>33</td>\n",
       "      <td>Minecraft</td>\n",
       "      <td>Sandbox, survival</td>\n",
       "      <td>Mojang Studios</td>\n",
       "      <td>Mojang Studios</td>\n",
       "    </tr>\n",
       "    <tr>\n",
       "      <th>2</th>\n",
       "      <td>Diablo III</td>\n",
       "      <td>2012-05-12</td>\n",
       "      <td>20</td>\n",
       "      <td>Diablo</td>\n",
       "      <td>Action role-playing</td>\n",
       "      <td>Blizzard Entertainment</td>\n",
       "      <td>Blizzard Entertainment</td>\n",
       "    </tr>\n",
       "    <tr>\n",
       "      <th>3</th>\n",
       "      <td>Garry's Mod</td>\n",
       "      <td>2006-11-12</td>\n",
       "      <td>20</td>\n",
       "      <td>NaN</td>\n",
       "      <td>Sandbox</td>\n",
       "      <td>Facepunch Studios</td>\n",
       "      <td>Valve</td>\n",
       "    </tr>\n",
       "    <tr>\n",
       "      <th>4</th>\n",
       "      <td>Terraria</td>\n",
       "      <td>2011-05-12</td>\n",
       "      <td>17</td>\n",
       "      <td>NaN</td>\n",
       "      <td>Action-adventure</td>\n",
       "      <td>Re-Logic</td>\n",
       "      <td>Re-Logic</td>\n",
       "    </tr>\n",
       "    <tr>\n",
       "      <th>...</th>\n",
       "      <td>...</td>\n",
       "      <td>...</td>\n",
       "      <td>...</td>\n",
       "      <td>...</td>\n",
       "      <td>...</td>\n",
       "      <td>...</td>\n",
       "      <td>...</td>\n",
       "    </tr>\n",
       "    <tr>\n",
       "      <th>170</th>\n",
       "      <td>Vietcong</td>\n",
       "      <td>2003-03-12</td>\n",
       "      <td>1</td>\n",
       "      <td>Vietcong</td>\n",
       "      <td>Tactical shooter</td>\n",
       "      <td>Pterodon</td>\n",
       "      <td>Gathering of Developers</td>\n",
       "    </tr>\n",
       "    <tr>\n",
       "      <th>171</th>\n",
       "      <td>Warhammer Online: Age of Reckoning</td>\n",
       "      <td>2008-09-12</td>\n",
       "      <td>1</td>\n",
       "      <td>Warhammer</td>\n",
       "      <td>MMORPG</td>\n",
       "      <td>Mythic Entertainment</td>\n",
       "      <td>Electronic Arts</td>\n",
       "    </tr>\n",
       "    <tr>\n",
       "      <th>172</th>\n",
       "      <td>Who Wants to Be a Millionaire?</td>\n",
       "      <td>1999-11-12</td>\n",
       "      <td>1</td>\n",
       "      <td>NaN</td>\n",
       "      <td>Trivia game</td>\n",
       "      <td>Jellyvision</td>\n",
       "      <td>Disney Interactive Studios</td>\n",
       "    </tr>\n",
       "    <tr>\n",
       "      <th>173</th>\n",
       "      <td>Wing Commander 3: Heart of the Tiger</td>\n",
       "      <td>1994-12-12</td>\n",
       "      <td>1</td>\n",
       "      <td>Wing Commander</td>\n",
       "      <td>Space combat simulation</td>\n",
       "      <td>Origin Systems</td>\n",
       "      <td>Electronic Arts</td>\n",
       "    </tr>\n",
       "    <tr>\n",
       "      <th>174</th>\n",
       "      <td>Zoo Tycoon</td>\n",
       "      <td>2001-10-12</td>\n",
       "      <td>1</td>\n",
       "      <td>Zoo Tycoon</td>\n",
       "      <td>Business simulation</td>\n",
       "      <td>Microsoft</td>\n",
       "      <td>Blue Fang Games</td>\n",
       "    </tr>\n",
       "  </tbody>\n",
       "</table>\n",
       "<p>175 rows × 7 columns</p>\n",
       "</div>"
      ],
      "text/plain": [
       "                                     Name Release_Date  Sales          Series  \\\n",
       "0           PlayerUnknown's Battlegrounds   2017-12-12     42             NaN   \n",
       "1                               Minecraft   2011-11-12     33       Minecraft   \n",
       "2                              Diablo III   2012-05-12     20          Diablo   \n",
       "3                             Garry's Mod   2006-11-12     20             NaN   \n",
       "4                                Terraria   2011-05-12     17             NaN   \n",
       "..                                    ...          ...    ...             ...   \n",
       "170                              Vietcong   2003-03-12      1        Vietcong   \n",
       "171    Warhammer Online: Age of Reckoning   2008-09-12      1       Warhammer   \n",
       "172        Who Wants to Be a Millionaire?   1999-11-12      1             NaN   \n",
       "173  Wing Commander 3: Heart of the Tiger   1994-12-12      1  Wing Commander   \n",
       "174                            Zoo Tycoon   2001-10-12      1      Zoo Tycoon   \n",
       "\n",
       "                       Genre               Developer  \\\n",
       "0              Battle royale            PUBG Studios   \n",
       "1          Sandbox, survival          Mojang Studios   \n",
       "2        Action role-playing  Blizzard Entertainment   \n",
       "3                    Sandbox       Facepunch Studios   \n",
       "4           Action-adventure                Re-Logic   \n",
       "..                       ...                     ...   \n",
       "170         Tactical shooter                Pterodon   \n",
       "171                   MMORPG    Mythic Entertainment   \n",
       "172              Trivia game             Jellyvision   \n",
       "173  Space combat simulation          Origin Systems   \n",
       "174      Business simulation               Microsoft   \n",
       "\n",
       "                      Publisher  \n",
       "0                       Krafton  \n",
       "1                Mojang Studios  \n",
       "2        Blizzard Entertainment  \n",
       "3                         Valve  \n",
       "4                      Re-Logic  \n",
       "..                          ...  \n",
       "170     Gathering of Developers  \n",
       "171             Electronic Arts  \n",
       "172  Disney Interactive Studios  \n",
       "173             Electronic Arts  \n",
       "174             Blue Fang Games  \n",
       "\n",
       "[175 rows x 7 columns]"
      ]
     },
     "execution_count": 95,
     "metadata": {},
     "output_type": "execute_result"
    }
   ],
   "source": [
    "df"
   ]
  },
  {
   "cell_type": "code",
   "execution_count": 96,
   "metadata": {},
   "outputs": [],
   "source": [
    "# Making the sales column more clearly to read\n",
    "df.rename({'Sales' : 'Sales_in_millions'}, axis = 1, inplace = True )"
   ]
  },
  {
   "cell_type": "code",
   "execution_count": 97,
   "metadata": {},
   "outputs": [
    {
     "data": {
      "text/html": [
       "<div>\n",
       "<style scoped>\n",
       "    .dataframe tbody tr th:only-of-type {\n",
       "        vertical-align: middle;\n",
       "    }\n",
       "\n",
       "    .dataframe tbody tr th {\n",
       "        vertical-align: top;\n",
       "    }\n",
       "\n",
       "    .dataframe thead th {\n",
       "        text-align: right;\n",
       "    }\n",
       "</style>\n",
       "<table border=\"1\" class=\"dataframe\">\n",
       "  <thead>\n",
       "    <tr style=\"text-align: right;\">\n",
       "      <th></th>\n",
       "      <th>Name</th>\n",
       "      <th>Release_Date</th>\n",
       "      <th>Sales_in_millions</th>\n",
       "      <th>Series</th>\n",
       "      <th>Genre</th>\n",
       "      <th>Developer</th>\n",
       "      <th>Publisher</th>\n",
       "    </tr>\n",
       "  </thead>\n",
       "  <tbody>\n",
       "    <tr>\n",
       "      <th>0</th>\n",
       "      <td>PlayerUnknown's Battlegrounds</td>\n",
       "      <td>2017-12-12</td>\n",
       "      <td>42</td>\n",
       "      <td>NaN</td>\n",
       "      <td>Battle royale</td>\n",
       "      <td>PUBG Studios</td>\n",
       "      <td>Krafton</td>\n",
       "    </tr>\n",
       "    <tr>\n",
       "      <th>1</th>\n",
       "      <td>Minecraft</td>\n",
       "      <td>2011-11-12</td>\n",
       "      <td>33</td>\n",
       "      <td>Minecraft</td>\n",
       "      <td>Sandbox, survival</td>\n",
       "      <td>Mojang Studios</td>\n",
       "      <td>Mojang Studios</td>\n",
       "    </tr>\n",
       "    <tr>\n",
       "      <th>2</th>\n",
       "      <td>Diablo III</td>\n",
       "      <td>2012-05-12</td>\n",
       "      <td>20</td>\n",
       "      <td>Diablo</td>\n",
       "      <td>Action role-playing</td>\n",
       "      <td>Blizzard Entertainment</td>\n",
       "      <td>Blizzard Entertainment</td>\n",
       "    </tr>\n",
       "    <tr>\n",
       "      <th>3</th>\n",
       "      <td>Garry's Mod</td>\n",
       "      <td>2006-11-12</td>\n",
       "      <td>20</td>\n",
       "      <td>NaN</td>\n",
       "      <td>Sandbox</td>\n",
       "      <td>Facepunch Studios</td>\n",
       "      <td>Valve</td>\n",
       "    </tr>\n",
       "    <tr>\n",
       "      <th>4</th>\n",
       "      <td>Terraria</td>\n",
       "      <td>2011-05-12</td>\n",
       "      <td>17</td>\n",
       "      <td>NaN</td>\n",
       "      <td>Action-adventure</td>\n",
       "      <td>Re-Logic</td>\n",
       "      <td>Re-Logic</td>\n",
       "    </tr>\n",
       "  </tbody>\n",
       "</table>\n",
       "</div>"
      ],
      "text/plain": [
       "                            Name Release_Date  Sales_in_millions     Series  \\\n",
       "0  PlayerUnknown's Battlegrounds   2017-12-12                 42        NaN   \n",
       "1                      Minecraft   2011-11-12                 33  Minecraft   \n",
       "2                     Diablo III   2012-05-12                 20     Diablo   \n",
       "3                    Garry's Mod   2006-11-12                 20        NaN   \n",
       "4                       Terraria   2011-05-12                 17        NaN   \n",
       "\n",
       "                 Genre               Developer               Publisher  \n",
       "0        Battle royale            PUBG Studios                 Krafton  \n",
       "1    Sandbox, survival          Mojang Studios          Mojang Studios  \n",
       "2  Action role-playing  Blizzard Entertainment  Blizzard Entertainment  \n",
       "3              Sandbox       Facepunch Studios                   Valve  \n",
       "4     Action-adventure                Re-Logic                Re-Logic  "
      ]
     },
     "execution_count": 97,
     "metadata": {},
     "output_type": "execute_result"
    }
   ],
   "source": [
    "df.head()"
   ]
  },
  {
   "cell_type": "code",
   "execution_count": 98,
   "metadata": {},
   "outputs": [
    {
     "data": {
      "text/html": [
       "<div>\n",
       "<style scoped>\n",
       "    .dataframe tbody tr th:only-of-type {\n",
       "        vertical-align: middle;\n",
       "    }\n",
       "\n",
       "    .dataframe tbody tr th {\n",
       "        vertical-align: top;\n",
       "    }\n",
       "\n",
       "    .dataframe thead th {\n",
       "        text-align: right;\n",
       "    }\n",
       "</style>\n",
       "<table border=\"1\" class=\"dataframe\">\n",
       "  <thead>\n",
       "    <tr style=\"text-align: right;\">\n",
       "      <th></th>\n",
       "      <th>Name</th>\n",
       "      <th>Release_Date</th>\n",
       "      <th>Sales_in_millions</th>\n",
       "      <th>Series</th>\n",
       "      <th>Genre</th>\n",
       "      <th>Developer</th>\n",
       "      <th>Publisher</th>\n",
       "    </tr>\n",
       "  </thead>\n",
       "  <tbody>\n",
       "    <tr>\n",
       "      <th>0</th>\n",
       "      <td>PlayerUnknown's Battlegrounds</td>\n",
       "      <td>2017-12-12</td>\n",
       "      <td>42</td>\n",
       "      <td>NaN</td>\n",
       "      <td>Battle royale</td>\n",
       "      <td>PUBG Studios</td>\n",
       "      <td>Krafton</td>\n",
       "    </tr>\n",
       "    <tr>\n",
       "      <th>1</th>\n",
       "      <td>Minecraft</td>\n",
       "      <td>2011-11-12</td>\n",
       "      <td>33</td>\n",
       "      <td>Minecraft</td>\n",
       "      <td>Sandbox, survival</td>\n",
       "      <td>Mojang Studios</td>\n",
       "      <td>Mojang Studios</td>\n",
       "    </tr>\n",
       "    <tr>\n",
       "      <th>2</th>\n",
       "      <td>Diablo III</td>\n",
       "      <td>2012-05-12</td>\n",
       "      <td>20</td>\n",
       "      <td>Diablo</td>\n",
       "      <td>Action role-playing</td>\n",
       "      <td>Blizzard Entertainment</td>\n",
       "      <td>Blizzard Entertainment</td>\n",
       "    </tr>\n",
       "    <tr>\n",
       "      <th>3</th>\n",
       "      <td>Garry's Mod</td>\n",
       "      <td>2006-11-12</td>\n",
       "      <td>20</td>\n",
       "      <td>NaN</td>\n",
       "      <td>Sandbox</td>\n",
       "      <td>Facepunch Studios</td>\n",
       "      <td>Valve</td>\n",
       "    </tr>\n",
       "    <tr>\n",
       "      <th>4</th>\n",
       "      <td>Terraria</td>\n",
       "      <td>2011-05-12</td>\n",
       "      <td>17</td>\n",
       "      <td>NaN</td>\n",
       "      <td>Action-adventure</td>\n",
       "      <td>Re-Logic</td>\n",
       "      <td>Re-Logic</td>\n",
       "    </tr>\n",
       "    <tr>\n",
       "      <th>...</th>\n",
       "      <td>...</td>\n",
       "      <td>...</td>\n",
       "      <td>...</td>\n",
       "      <td>...</td>\n",
       "      <td>...</td>\n",
       "      <td>...</td>\n",
       "      <td>...</td>\n",
       "    </tr>\n",
       "    <tr>\n",
       "      <th>170</th>\n",
       "      <td>Vietcong</td>\n",
       "      <td>2003-03-12</td>\n",
       "      <td>1</td>\n",
       "      <td>Vietcong</td>\n",
       "      <td>Tactical shooter</td>\n",
       "      <td>Pterodon</td>\n",
       "      <td>Gathering of Developers</td>\n",
       "    </tr>\n",
       "    <tr>\n",
       "      <th>171</th>\n",
       "      <td>Warhammer Online: Age of Reckoning</td>\n",
       "      <td>2008-09-12</td>\n",
       "      <td>1</td>\n",
       "      <td>Warhammer</td>\n",
       "      <td>MMORPG</td>\n",
       "      <td>Mythic Entertainment</td>\n",
       "      <td>Electronic Arts</td>\n",
       "    </tr>\n",
       "    <tr>\n",
       "      <th>172</th>\n",
       "      <td>Who Wants to Be a Millionaire?</td>\n",
       "      <td>1999-11-12</td>\n",
       "      <td>1</td>\n",
       "      <td>NaN</td>\n",
       "      <td>Trivia game</td>\n",
       "      <td>Jellyvision</td>\n",
       "      <td>Disney Interactive Studios</td>\n",
       "    </tr>\n",
       "    <tr>\n",
       "      <th>173</th>\n",
       "      <td>Wing Commander 3: Heart of the Tiger</td>\n",
       "      <td>1994-12-12</td>\n",
       "      <td>1</td>\n",
       "      <td>Wing Commander</td>\n",
       "      <td>Space combat simulation</td>\n",
       "      <td>Origin Systems</td>\n",
       "      <td>Electronic Arts</td>\n",
       "    </tr>\n",
       "    <tr>\n",
       "      <th>174</th>\n",
       "      <td>Zoo Tycoon</td>\n",
       "      <td>2001-10-12</td>\n",
       "      <td>1</td>\n",
       "      <td>Zoo Tycoon</td>\n",
       "      <td>Business simulation</td>\n",
       "      <td>Microsoft</td>\n",
       "      <td>Blue Fang Games</td>\n",
       "    </tr>\n",
       "  </tbody>\n",
       "</table>\n",
       "<p>175 rows × 7 columns</p>\n",
       "</div>"
      ],
      "text/plain": [
       "                                     Name Release_Date  Sales_in_millions  \\\n",
       "0           PlayerUnknown's Battlegrounds   2017-12-12                 42   \n",
       "1                               Minecraft   2011-11-12                 33   \n",
       "2                              Diablo III   2012-05-12                 20   \n",
       "3                             Garry's Mod   2006-11-12                 20   \n",
       "4                                Terraria   2011-05-12                 17   \n",
       "..                                    ...          ...                ...   \n",
       "170                              Vietcong   2003-03-12                  1   \n",
       "171    Warhammer Online: Age of Reckoning   2008-09-12                  1   \n",
       "172        Who Wants to Be a Millionaire?   1999-11-12                  1   \n",
       "173  Wing Commander 3: Heart of the Tiger   1994-12-12                  1   \n",
       "174                            Zoo Tycoon   2001-10-12                  1   \n",
       "\n",
       "             Series                    Genre               Developer  \\\n",
       "0               NaN            Battle royale            PUBG Studios   \n",
       "1         Minecraft        Sandbox, survival          Mojang Studios   \n",
       "2            Diablo      Action role-playing  Blizzard Entertainment   \n",
       "3               NaN                  Sandbox       Facepunch Studios   \n",
       "4               NaN         Action-adventure                Re-Logic   \n",
       "..              ...                      ...                     ...   \n",
       "170        Vietcong         Tactical shooter                Pterodon   \n",
       "171       Warhammer                   MMORPG    Mythic Entertainment   \n",
       "172             NaN              Trivia game             Jellyvision   \n",
       "173  Wing Commander  Space combat simulation          Origin Systems   \n",
       "174      Zoo Tycoon      Business simulation               Microsoft   \n",
       "\n",
       "                      Publisher  \n",
       "0                       Krafton  \n",
       "1                Mojang Studios  \n",
       "2        Blizzard Entertainment  \n",
       "3                         Valve  \n",
       "4                      Re-Logic  \n",
       "..                          ...  \n",
       "170     Gathering of Developers  \n",
       "171             Electronic Arts  \n",
       "172  Disney Interactive Studios  \n",
       "173             Electronic Arts  \n",
       "174             Blue Fang Games  \n",
       "\n",
       "[175 rows x 7 columns]"
      ]
     },
     "execution_count": 98,
     "metadata": {},
     "output_type": "execute_result"
    }
   ],
   "source": [
    "# Drop duplicates if there any\n",
    "df.drop_duplicates()"
   ]
  },
  {
   "cell_type": "code",
   "execution_count": 99,
   "metadata": {},
   "outputs": [
    {
     "data": {
      "text/html": [
       "<div>\n",
       "<style scoped>\n",
       "    .dataframe tbody tr th:only-of-type {\n",
       "        vertical-align: middle;\n",
       "    }\n",
       "\n",
       "    .dataframe tbody tr th {\n",
       "        vertical-align: top;\n",
       "    }\n",
       "\n",
       "    .dataframe thead th {\n",
       "        text-align: right;\n",
       "    }\n",
       "</style>\n",
       "<table border=\"1\" class=\"dataframe\">\n",
       "  <thead>\n",
       "    <tr style=\"text-align: right;\">\n",
       "      <th></th>\n",
       "      <th>Name</th>\n",
       "      <th>Release_Date</th>\n",
       "      <th>Sales_in_millions</th>\n",
       "      <th>Series</th>\n",
       "      <th>Genre</th>\n",
       "      <th>Developer</th>\n",
       "      <th>Publisher</th>\n",
       "    </tr>\n",
       "  </thead>\n",
       "  <tbody>\n",
       "    <tr>\n",
       "      <th>Name</th>\n",
       "      <td>1.000000</td>\n",
       "      <td>0.804916</td>\n",
       "      <td>0.714244</td>\n",
       "      <td>0.614024</td>\n",
       "      <td>0.496175</td>\n",
       "      <td>0.864141</td>\n",
       "      <td>0.615424</td>\n",
       "    </tr>\n",
       "    <tr>\n",
       "      <th>Release_Date</th>\n",
       "      <td>0.804916</td>\n",
       "      <td>1.000000</td>\n",
       "      <td>0.641110</td>\n",
       "      <td>0.491925</td>\n",
       "      <td>0.425394</td>\n",
       "      <td>0.687965</td>\n",
       "      <td>0.554113</td>\n",
       "    </tr>\n",
       "    <tr>\n",
       "      <th>Sales_in_millions</th>\n",
       "      <td>0.714244</td>\n",
       "      <td>0.641110</td>\n",
       "      <td>1.000000</td>\n",
       "      <td>0.436864</td>\n",
       "      <td>0.385397</td>\n",
       "      <td>0.587069</td>\n",
       "      <td>0.504860</td>\n",
       "    </tr>\n",
       "    <tr>\n",
       "      <th>Series</th>\n",
       "      <td>0.614024</td>\n",
       "      <td>0.491925</td>\n",
       "      <td>0.436864</td>\n",
       "      <td>1.000000</td>\n",
       "      <td>0.346629</td>\n",
       "      <td>0.588041</td>\n",
       "      <td>0.331250</td>\n",
       "    </tr>\n",
       "    <tr>\n",
       "      <th>Genre</th>\n",
       "      <td>0.496175</td>\n",
       "      <td>0.425394</td>\n",
       "      <td>0.385397</td>\n",
       "      <td>0.346629</td>\n",
       "      <td>1.000000</td>\n",
       "      <td>0.523483</td>\n",
       "      <td>0.536523</td>\n",
       "    </tr>\n",
       "    <tr>\n",
       "      <th>Developer</th>\n",
       "      <td>0.864141</td>\n",
       "      <td>0.687965</td>\n",
       "      <td>0.587069</td>\n",
       "      <td>0.588041</td>\n",
       "      <td>0.523483</td>\n",
       "      <td>1.000000</td>\n",
       "      <td>0.665303</td>\n",
       "    </tr>\n",
       "    <tr>\n",
       "      <th>Publisher</th>\n",
       "      <td>0.615424</td>\n",
       "      <td>0.554113</td>\n",
       "      <td>0.504860</td>\n",
       "      <td>0.331250</td>\n",
       "      <td>0.536523</td>\n",
       "      <td>0.665303</td>\n",
       "      <td>1.000000</td>\n",
       "    </tr>\n",
       "  </tbody>\n",
       "</table>\n",
       "</div>"
      ],
      "text/plain": [
       "                       Name  Release_Date  Sales_in_millions    Series  \\\n",
       "Name               1.000000      0.804916           0.714244  0.614024   \n",
       "Release_Date       0.804916      1.000000           0.641110  0.491925   \n",
       "Sales_in_millions  0.714244      0.641110           1.000000  0.436864   \n",
       "Series             0.614024      0.491925           0.436864  1.000000   \n",
       "Genre              0.496175      0.425394           0.385397  0.346629   \n",
       "Developer          0.864141      0.687965           0.587069  0.588041   \n",
       "Publisher          0.615424      0.554113           0.504860  0.331250   \n",
       "\n",
       "                      Genre  Developer  Publisher  \n",
       "Name               0.496175   0.864141   0.615424  \n",
       "Release_Date       0.425394   0.687965   0.554113  \n",
       "Sales_in_millions  0.385397   0.587069   0.504860  \n",
       "Series             0.346629   0.588041   0.331250  \n",
       "Genre              1.000000   0.523483   0.536523  \n",
       "Developer          0.523483   1.000000   0.665303  \n",
       "Publisher          0.536523   0.665303   1.000000  "
      ]
     },
     "execution_count": 99,
     "metadata": {},
     "output_type": "execute_result"
    }
   ],
   "source": [
    "# Assining a random numeric value for each category using factorize\n",
    "\n",
    "df.apply(lambda x: x.factorize()[0]).corr(method='pearson')"
   ]
  },
  {
   "cell_type": "code",
   "execution_count": 100,
   "metadata": {},
   "outputs": [
    {
     "data": {
      "image/png": "[encoded data removed]",
      "text/plain": [
       "<Figure size 864x576 with 2 Axes>"
      ]
     },
     "metadata": {
      "needs_background": "light"
     },
     "output_type": "display_data"
    }
   ],
   "source": [
    "# Searching for high correlation\n",
    "correlation_matrix2 = df.apply(lambda x: x.factorize()[0]).corr(method='pearson')\n",
    "\n",
    "sns.heatmap(correlation_matrix2, annot=True)\n",
    "\n",
    "plt.title('Correlation Matrix For Numeric Features')\n",
    "\n",
    "plt.xlabel('Games Features')\n",
    "\n",
    "plt.ylabel('Games Features')\n",
    "\n",
    "plt.show()"
   ]
  },
  {
   "cell_type": "code",
   "execution_count": 101,
   "metadata": {},
   "outputs": [
    {
     "name": "stdout",
     "output_type": "stream",
     "text": [
      "Name       Name                 1.000000\n",
      "           Release_Date         0.804916\n",
      "           Sales_in_millions    0.714244\n",
      "           Series               0.614024\n",
      "           Genre                0.496175\n",
      "                                  ...   \n",
      "Publisher  Sales_in_millions    0.504860\n",
      "           Series               0.331250\n",
      "           Genre                0.536523\n",
      "           Developer            0.665303\n",
      "           Publisher            1.000000\n",
      "Length: 49, dtype: float64\n"
     ]
    }
   ],
   "source": [
    "correlation_matrix3 = df.apply(lambda x: x.factorize()[0]).corr()\n",
    "\n",
    "corr_pairs = correlation_matrix3.unstack()\n",
    "\n",
    "print(corr_pairs)"
   ]
  },
  {
   "cell_type": "code",
   "execution_count": 102,
   "metadata": {},
   "outputs": [
    {
     "name": "stdout",
     "output_type": "stream",
     "text": [
      "Series             Publisher            0.331250\n",
      "Publisher          Series               0.331250\n",
      "Series             Genre                0.346629\n",
      "Genre              Series               0.346629\n",
      "                   Sales_in_millions    0.385397\n",
      "                                          ...   \n",
      "                   Genre                1.000000\n",
      "Sales_in_millions  Sales_in_millions    1.000000\n",
      "Release_Date       Release_Date         1.000000\n",
      "Developer          Developer            1.000000\n",
      "Publisher          Publisher            1.000000\n",
      "Length: 49, dtype: float64\n"
     ]
    }
   ],
   "source": [
    "sorted_pairs = corr_pairs.sort_values()  \n",
    "\n",
    "print(sorted_pairs)"
   ]
  },
  {
   "cell_type": "code",
   "execution_count": 103,
   "metadata": {},
   "outputs": [
    {
     "name": "stdout",
     "output_type": "stream",
     "text": [
      "Sales_in_millions  Publisher            0.504860\n",
      "Publisher          Sales_in_millions    0.504860\n",
      "Developer          Genre                0.523483\n",
      "Genre              Developer            0.523483\n",
      "Publisher          Genre                0.536523\n",
      "                                          ...   \n",
      "Genre              Genre                1.000000\n",
      "Sales_in_millions  Sales_in_millions    1.000000\n",
      "Release_Date       Release_Date         1.000000\n",
      "Developer          Developer            1.000000\n",
      "Publisher          Publisher            1.000000\n",
      "Length: 35, dtype: float64\n"
     ]
    }
   ],
   "source": [
    "high_corr = sorted_pairs[(sorted_pairs) > 0.5]\n",
    "\n",
    "print(high_corr)"
   ]
  },
  {
   "cell_type": "code",
   "execution_count": 104,
   "metadata": {},
   "outputs": [],
   "source": [
    "# As we can see in the correlation i did, i found that the Developer company has a big impact and high correlation to the sales "
   ]
  },
  {
   "cell_type": "code",
   "execution_count": 105,
   "metadata": {},
   "outputs": [
    {
     "data": {
      "text/html": [
       "<div>\n",
       "<style scoped>\n",
       "    .dataframe tbody tr th:only-of-type {\n",
       "        vertical-align: middle;\n",
       "    }\n",
       "\n",
       "    .dataframe tbody tr th {\n",
       "        vertical-align: top;\n",
       "    }\n",
       "\n",
       "    .dataframe thead th {\n",
       "        text-align: right;\n",
       "    }\n",
       "</style>\n",
       "<table border=\"1\" class=\"dataframe\">\n",
       "  <thead>\n",
       "    <tr style=\"text-align: right;\">\n",
       "      <th></th>\n",
       "      <th>Name</th>\n",
       "      <th>Release_Date</th>\n",
       "      <th>Sales_in_millions</th>\n",
       "      <th>Series</th>\n",
       "      <th>Genre</th>\n",
       "      <th>Developer</th>\n",
       "      <th>Publisher</th>\n",
       "    </tr>\n",
       "  </thead>\n",
       "  <tbody>\n",
       "    <tr>\n",
       "      <th>0</th>\n",
       "      <td>PlayerUnknown's Battlegrounds</td>\n",
       "      <td>2017-12-12</td>\n",
       "      <td>42</td>\n",
       "      <td>NaN</td>\n",
       "      <td>Battle royale</td>\n",
       "      <td>PUBG Studios</td>\n",
       "      <td>Krafton</td>\n",
       "    </tr>\n",
       "    <tr>\n",
       "      <th>1</th>\n",
       "      <td>Minecraft</td>\n",
       "      <td>2011-11-12</td>\n",
       "      <td>33</td>\n",
       "      <td>Minecraft</td>\n",
       "      <td>Sandbox, survival</td>\n",
       "      <td>Mojang Studios</td>\n",
       "      <td>Mojang Studios</td>\n",
       "    </tr>\n",
       "    <tr>\n",
       "      <th>2</th>\n",
       "      <td>Diablo III</td>\n",
       "      <td>2012-05-12</td>\n",
       "      <td>20</td>\n",
       "      <td>Diablo</td>\n",
       "      <td>Action role-playing</td>\n",
       "      <td>Blizzard Entertainment</td>\n",
       "      <td>Blizzard Entertainment</td>\n",
       "    </tr>\n",
       "    <tr>\n",
       "      <th>3</th>\n",
       "      <td>Garry's Mod</td>\n",
       "      <td>2006-11-12</td>\n",
       "      <td>20</td>\n",
       "      <td>NaN</td>\n",
       "      <td>Sandbox</td>\n",
       "      <td>Facepunch Studios</td>\n",
       "      <td>Valve</td>\n",
       "    </tr>\n",
       "    <tr>\n",
       "      <th>4</th>\n",
       "      <td>Terraria</td>\n",
       "      <td>2011-05-12</td>\n",
       "      <td>17</td>\n",
       "      <td>NaN</td>\n",
       "      <td>Action-adventure</td>\n",
       "      <td>Re-Logic</td>\n",
       "      <td>Re-Logic</td>\n",
       "    </tr>\n",
       "  </tbody>\n",
       "</table>\n",
       "</div>"
      ],
      "text/plain": [
       "                            Name Release_Date  Sales_in_millions     Series  \\\n",
       "0  PlayerUnknown's Battlegrounds   2017-12-12                 42        NaN   \n",
       "1                      Minecraft   2011-11-12                 33  Minecraft   \n",
       "2                     Diablo III   2012-05-12                 20     Diablo   \n",
       "3                    Garry's Mod   2006-11-12                 20        NaN   \n",
       "4                       Terraria   2011-05-12                 17        NaN   \n",
       "\n",
       "                 Genre               Developer               Publisher  \n",
       "0        Battle royale            PUBG Studios                 Krafton  \n",
       "1    Sandbox, survival          Mojang Studios          Mojang Studios  \n",
       "2  Action role-playing  Blizzard Entertainment  Blizzard Entertainment  \n",
       "3              Sandbox       Facepunch Studios                   Valve  \n",
       "4     Action-adventure                Re-Logic                Re-Logic  "
      ]
     },
     "execution_count": 105,
     "metadata": {},
     "output_type": "execute_result"
    }
   ],
   "source": [
    "df.head()"
   ]
  },
  {
   "cell_type": "code",
   "execution_count": 106,
   "metadata": {},
   "outputs": [
    {
     "data": {
      "text/plain": [
       "'Real-time strategy'"
      ]
     },
     "execution_count": 106,
     "metadata": {},
     "output_type": "execute_result"
    }
   ],
   "source": [
    "# Checking which Genre is the most popular\n",
    "df['Genre'].value_counts().idxmax()"
   ]
  },
  {
   "cell_type": "code",
   "execution_count": 107,
   "metadata": {},
   "outputs": [
    {
     "data": {
      "text/plain": [
       "0    Electronic Arts\n",
       "dtype: object"
      ]
     },
     "execution_count": 107,
     "metadata": {},
     "output_type": "execute_result"
    }
   ],
   "source": [
    "# Checking which publisher published most of the games\n",
    "df['Publisher'].mode()"
   ]
  },
  {
   "cell_type": "code",
   "execution_count": 108,
   "metadata": {},
   "outputs": [],
   "source": [
    "# For going farther with the analysis I will create a grade column based on sales\n",
    "def m(Sales, Grade):\n",
    "    if Sales > 30:\n",
    "        Grade = 'A'\n",
    "    elif 10 <= Sales <= 30:\n",
    "        Grade = 'B'\n",
    "    elif 5 <= Sales < 10:\n",
    "        Grade = 'C'\n",
    "    elif 2 <= Sales < 5:\n",
    "        Grade = 'D'\n",
    "    elif Sales < 2:\n",
    "        Grade = 'F'\n",
    "    return Grade"
   ]
  },
  {
   "cell_type": "code",
   "execution_count": 110,
   "metadata": {},
   "outputs": [
    {
     "data": {
      "text/html": [
       "<div>\n",
       "<style scoped>\n",
       "    .dataframe tbody tr th:only-of-type {\n",
       "        vertical-align: middle;\n",
       "    }\n",
       "\n",
       "    .dataframe tbody tr th {\n",
       "        vertical-align: top;\n",
       "    }\n",
       "\n",
       "    .dataframe thead th {\n",
       "        text-align: right;\n",
       "    }\n",
       "</style>\n",
       "<table border=\"1\" class=\"dataframe\">\n",
       "  <thead>\n",
       "    <tr style=\"text-align: right;\">\n",
       "      <th></th>\n",
       "      <th>Name</th>\n",
       "      <th>Release_Date</th>\n",
       "      <th>Sales_in_millions</th>\n",
       "      <th>Series</th>\n",
       "      <th>Genre</th>\n",
       "      <th>Developer</th>\n",
       "      <th>Publisher</th>\n",
       "      <th>Grade</th>\n",
       "    </tr>\n",
       "  </thead>\n",
       "  <tbody>\n",
       "    <tr>\n",
       "      <th>0</th>\n",
       "      <td>PlayerUnknown's Battlegrounds</td>\n",
       "      <td>2017-12-12</td>\n",
       "      <td>42</td>\n",
       "      <td>NaN</td>\n",
       "      <td>Battle royale</td>\n",
       "      <td>PUBG Studios</td>\n",
       "      <td>Krafton</td>\n",
       "      <td>A</td>\n",
       "    </tr>\n",
       "    <tr>\n",
       "      <th>1</th>\n",
       "      <td>Minecraft</td>\n",
       "      <td>2011-11-12</td>\n",
       "      <td>33</td>\n",
       "      <td>Minecraft</td>\n",
       "      <td>Sandbox, survival</td>\n",
       "      <td>Mojang Studios</td>\n",
       "      <td>Mojang Studios</td>\n",
       "      <td>A</td>\n",
       "    </tr>\n",
       "    <tr>\n",
       "      <th>2</th>\n",
       "      <td>Diablo III</td>\n",
       "      <td>2012-05-12</td>\n",
       "      <td>20</td>\n",
       "      <td>Diablo</td>\n",
       "      <td>Action role-playing</td>\n",
       "      <td>Blizzard Entertainment</td>\n",
       "      <td>Blizzard Entertainment</td>\n",
       "      <td>B</td>\n",
       "    </tr>\n",
       "    <tr>\n",
       "      <th>3</th>\n",
       "      <td>Garry's Mod</td>\n",
       "      <td>2006-11-12</td>\n",
       "      <td>20</td>\n",
       "      <td>NaN</td>\n",
       "      <td>Sandbox</td>\n",
       "      <td>Facepunch Studios</td>\n",
       "      <td>Valve</td>\n",
       "      <td>B</td>\n",
       "    </tr>\n",
       "    <tr>\n",
       "      <th>4</th>\n",
       "      <td>Terraria</td>\n",
       "      <td>2011-05-12</td>\n",
       "      <td>17</td>\n",
       "      <td>NaN</td>\n",
       "      <td>Action-adventure</td>\n",
       "      <td>Re-Logic</td>\n",
       "      <td>Re-Logic</td>\n",
       "      <td>B</td>\n",
       "    </tr>\n",
       "  </tbody>\n",
       "</table>\n",
       "</div>"
      ],
      "text/plain": [
       "                            Name Release_Date  Sales_in_millions     Series  \\\n",
       "0  PlayerUnknown's Battlegrounds   2017-12-12                 42        NaN   \n",
       "1                      Minecraft   2011-11-12                 33  Minecraft   \n",
       "2                     Diablo III   2012-05-12                 20     Diablo   \n",
       "3                    Garry's Mod   2006-11-12                 20        NaN   \n",
       "4                       Terraria   2011-05-12                 17        NaN   \n",
       "\n",
       "                 Genre               Developer               Publisher Grade  \n",
       "0        Battle royale            PUBG Studios                 Krafton     A  \n",
       "1    Sandbox, survival          Mojang Studios          Mojang Studios     A  \n",
       "2  Action role-playing  Blizzard Entertainment  Blizzard Entertainment     B  \n",
       "3              Sandbox       Facepunch Studios                   Valve     B  \n",
       "4     Action-adventure                Re-Logic                Re-Logic     B  "
      ]
     },
     "execution_count": 110,
     "metadata": {},
     "output_type": "execute_result"
    }
   ],
   "source": [
    "# Creating the grade column and then applying the fuction to that column\n",
    "df['Grade'] = 0\n",
    "df['Grade'] = df.apply(lambda x:m(x['Sales_in_millions'], x['Grade']), axis = 1)\n",
    "df.head()"
   ]
  },
  {
   "cell_type": "code",
   "execution_count": 111,
   "metadata": {},
   "outputs": [
    {
     "data": {
      "text/plain": [
       "count                              175\n",
       "mean     2005-08-04 09:11:18.857142912\n",
       "min                1984-12-12 00:00:00\n",
       "25%                1999-04-11 12:00:00\n",
       "50%                2004-10-12 00:00:00\n",
       "75%                2012-10-12 00:00:00\n",
       "max                2021-02-12 00:00:00\n",
       "Name: Release_Date, dtype: object"
      ]
     },
     "execution_count": 111,
     "metadata": {},
     "output_type": "execute_result"
    }
   ],
   "source": [
    "df.Release_Date.describe(datetime_is_numeric= True)"
   ]
  },
  {
   "cell_type": "code",
   "execution_count": 113,
   "metadata": {},
   "outputs": [
    {
     "data": {
      "text/plain": [
       "<seaborn.axisgrid.FacetGrid at 0x25fe02177c0>"
      ]
     },
     "execution_count": 113,
     "metadata": {},
     "output_type": "execute_result"
    },
    {
     "data": {
      "image/png": "[encoded data removed]",
      "text/plain": [
       "<Figure size 360x360 with 1 Axes>"
      ]
     },
     "metadata": {
      "needs_background": "light"
     },
     "output_type": "display_data"
    }
   ],
   "source": [
    "# Checking the Sales using seaborn\n",
    "sns.displot(df.Sales_in_millions, bins = 3, color = 'purple')\n"
   ]
  },
  {
   "cell_type": "code",
   "execution_count": 114,
   "metadata": {},
   "outputs": [
    {
     "data": {
      "text/plain": [
       "<AxesSubplot:ylabel='Name'>"
      ]
     },
     "execution_count": 114,
     "metadata": {},
     "output_type": "execute_result"
    },
    {
     "data": {
      "image/png": "[encoded data removed]",
      "text/plain": [
       "<Figure size 864x576 with 1 Axes>"
      ]
     },
     "metadata": {
      "needs_background": "light"
     },
     "output_type": "display_data"
    }
   ],
   "source": [
    "# Showing the highest game sales\n",
    "dr = pd.pivot_table(df, index = 'Name', values = ['Sales_in_millions'], aggfunc = np.sum)\n",
    "dr.sort_values(by = 'Sales_in_millions', ascending = False).head().plot(kind = 'barh', color = 'purple')"
   ]
  },
  {
   "cell_type": "code",
   "execution_count": 116,
   "metadata": {},
   "outputs": [
    {
     "data": {
      "text/plain": [
       "<AxesSubplot:xlabel='Release_Date'>"
      ]
     },
     "execution_count": 116,
     "metadata": {},
     "output_type": "execute_result"
    },
    {
     "data": {
      "image/png": "[encoded data removed]",
      "text/plain": [
       "<Figure size 720x720 with 1 Axes>"
      ]
     },
     "metadata": {
      "needs_background": "light"
     },
     "output_type": "display_data"
    }
   ],
   "source": [
    "# Showing the games releasing date over the years\n",
    "df.groupby(df['Release_Date'].dt.strftime('%G')).Sales_in_millions.sum().sort_values(ascending = True).plot(color = 'red',lw = 4, ls = '-', marker = 'X', figsize =(10,10))"
   ]
  },
  {
   "cell_type": "code",
   "execution_count": null,
   "metadata": {},
   "outputs": [],
   "source": [
    "# As we can see as the years go by more and more games come out"
   ]
  },
  {
   "cell_type": "code",
   "execution_count": 124,
   "metadata": {},
   "outputs": [
    {
     "data": {
      "text/plain": [
       "<AxesSubplot:ylabel='Genre'>"
      ]
     },
     "execution_count": 124,
     "metadata": {},
     "output_type": "execute_result"
    },
    {
     "data": {
      "image/png": "[encoded data removed]",
      "text/plain": [
       "<Figure size 864x576 with 1 Axes>"
      ]
     },
     "metadata": {
      "needs_background": "light"
     },
     "output_type": "display_data"
    }
   ],
   "source": [
    "pt = pd.pivot_table(df, index = 'Genre', values = ['Sales_in_millions'], aggfunc = np.sum)\n",
    "pt.sort_values(by = 'Sales_in_millions', ascending = False).head().plot(kind = 'barh', color = 'purple')"
   ]
  },
  {
   "cell_type": "code",
   "execution_count": null,
   "metadata": {},
   "outputs": [],
   "source": [
    "\"\"\" For a reminder, earlier I checked which Genre of games is the most popular\n",
    "and it was real time strategy.\n",
    "Now we can see that altough real time strategy is the popularest, action role playing is\n",
    "sells more \"\"\"\n"
   ]
  },
  {
   "cell_type": "code",
   "execution_count": 125,
   "metadata": {},
   "outputs": [
    {
     "data": {
      "text/plain": [
       "<AxesSubplot:ylabel='Publisher'>"
      ]
     },
     "execution_count": 125,
     "metadata": {},
     "output_type": "execute_result"
    },
    {
     "data": {
      "image/png": "[encoded data removed]",
      "text/plain": [
       "<Figure size 864x576 with 1 Axes>"
      ]
     },
     "metadata": {
      "needs_background": "light"
     },
     "output_type": "display_data"
    }
   ],
   "source": [
    "le = pd.pivot_table(df, index = 'Publisher', values = ['Sales_in_millions'])\n",
    "le.sort_values(by = 'Sales_in_millions', ascending = False).head().plot(color = 'purple',kind = 'barh')\n"
   ]
  },
  {
   "cell_type": "code",
   "execution_count": 143,
   "metadata": {},
   "outputs": [],
   "source": [
    "# Same here, altough Electronic Arts published most of the games Krafton is sells more"
   ]
  },
  {
   "cell_type": "code",
   "execution_count": 126,
   "metadata": {},
   "outputs": [
    {
     "data": {
      "text/plain": [
       "5"
      ]
     },
     "execution_count": 126,
     "metadata": {},
     "output_type": "execute_result"
    }
   ],
   "source": [
    "df.Grade.nunique()\n"
   ]
  },
  {
   "cell_type": "code",
   "execution_count": 127,
   "metadata": {},
   "outputs": [
    {
     "name": "stderr",
     "output_type": "stream",
     "text": [
      "C:\\Users\\paz\\anaconda3\\lib\\site-packages\\seaborn\\_decorators.py:36: FutureWarning: Pass the following variable as a keyword arg: x. From version 0.12, the only valid positional argument will be `data`, and passing other arguments without an explicit keyword will result in an error or misinterpretation.\n",
      "  warnings.warn(\n"
     ]
    },
    {
     "data": {
      "text/plain": [
       "<AxesSubplot:xlabel='Grade', ylabel='count'>"
      ]
     },
     "execution_count": 127,
     "metadata": {},
     "output_type": "execute_result"
    },
    {
     "data": {
      "image/png": "[encoded data removed]",
      "text/plain": [
       "<Figure size 864x576 with 1 Axes>"
      ]
     },
     "metadata": {
      "needs_background": "light"
     },
     "output_type": "display_data"
    }
   ],
   "source": [
    "# Showing the grades (that I defined earlier) of the games\n",
    "sns.countplot(df.Grade)\n"
   ]
  },
  {
   "cell_type": "code",
   "execution_count": 139,
   "metadata": {},
   "outputs": [
    {
     "data": {
      "text/plain": [
       "<AxesSubplot:title={'center':'# of F in Category'}, ylabel='Publisher'>"
      ]
     },
     "execution_count": 139,
     "metadata": {},
     "output_type": "execute_result"
    },
    {
     "data": {
      "image/png": "[encoded data removed]",
      "text/plain": [
       "<Figure size 864x576 with 1 Axes>"
      ]
     },
     "metadata": {
      "needs_background": "light"
     },
     "output_type": "display_data"
    }
   ],
   "source": [
    "# Showing publishers that weren't the best on sales\n",
    "p = pd.crosstab(df.Publisher, df.Grade).sort_values(by = 'F', ascending = False)\n",
    "p.query('F >= 4')\n",
    "p['F'].head().plot(kind = 'barh', color = 'orange', title = '# of F in Category')"
   ]
  },
  {
   "cell_type": "code",
   "execution_count": null,
   "metadata": {},
   "outputs": [],
   "source": [
    "\"\"\" As we can see Electronic Arts have the largest amount of games \n",
    "but not all their games are the best ones \"\"\""
   ]
  }
 ],
 "metadata": {
  "interpreter": {
   "hash": "7235565823676d34cd2b7ca0e01685f35e3d842f384e301def8b0c855e733e42"
  },
  "kernelspec": {
   "display_name": "Python 3.9.12 64-bit (windows store)",
   "language": "python",
   "name": "python3"
  },
  "language_info": {
   "codemirror_mode": {
    "name": "ipython",
    "version": 3
   },
   "file_extension": ".py",
   "mimetype": "text/x-python",
   "name": "python",
   "nbconvert_exporter": "python",
   "pygments_lexer": "ipython3",
   "version": "3.9.7"
  },
  "orig_nbformat": 4
 },
 "nbformat": 4,
 "nbformat_minor": 2
}
